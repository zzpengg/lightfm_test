{
 "cells": [
  {
   "cell_type": "code",
   "execution_count": 1,
   "metadata": {},
   "outputs": [],
   "source": [
    "import os\n",
    "import zipfile\n",
    "import csv\n",
    "\n",
    "import requests\n",
    "\n",
    "\n",
    "def _download(url: str, dest_path: str):\n",
    "\n",
    "    req = requests.get(url, stream=True)\n",
    "    req.raise_for_status()\n",
    "\n",
    "    with open(dest_path, \"wb\") as fd:\n",
    "        for chunk in req.iter_content(chunk_size=2 ** 20):\n",
    "            fd.write(chunk)\n",
    "\n",
    "\n",
    "def get_data():\n",
    "\n",
    "    ratings_url = (\"http://www2.informatik.uni-freiburg.de/\" \"~cziegler/BX/BX-CSV-Dump.zip\")\n",
    "\n",
    "    if not os.path.exists(\"data\"):\n",
    "        os.makedirs(\"data\")\n",
    "\n",
    "        _download(ratings_url, \"data/data.zip\")\n",
    "\n",
    "    with zipfile.ZipFile(\"data/data.zip\") as archive:\n",
    "        return (\n",
    "            csv.DictReader(\n",
    "                (x.decode(\"utf-8\", \"ignore\") for x in archive.open(\"BX-Book-Ratings.csv\")),\n",
    "                delimiter=\";\",\n",
    "            ),\n",
    "            csv.DictReader(\n",
    "                (x.decode(\"utf-8\", \"ignore\") for x in archive.open(\"BX-Books.csv\")), delimiter=\";\"\n",
    "            ),\n",
    "        )\n",
    "\n",
    "\n",
    "def get_ratings():\n",
    "\n",
    "    return get_data()[0]\n",
    "\n",
    "\n",
    "def get_book_features():\n",
    "\n",
    "    return get_data()[1]"
   ]
  },
  {
   "cell_type": "code",
   "execution_count": 2,
   "metadata": {},
   "outputs": [],
   "source": [
    "import json\n",
    "from itertools import islice\n",
    "\n",
    "ratings, book_features = get_data()"
   ]
  },
  {
   "cell_type": "code",
   "execution_count": 3,
   "metadata": {},
   "outputs": [
    {
     "name": "stdout",
     "output_type": "stream",
     "text": [
      "{\n",
      "    \"User-ID\": \"276725\",\n",
      "    \"ISBN\": \"034545104X\",\n",
      "    \"Book-Rating\": \"0\"\n",
      "}\n",
      "{\n",
      "    \"User-ID\": \"276726\",\n",
      "    \"ISBN\": \"0155061224\",\n",
      "    \"Book-Rating\": \"5\"\n",
      "}\n"
     ]
    }
   ],
   "source": [
    "for line in islice(ratings, 2):\n",
    "    print(json.dumps(line, indent=4))"
   ]
  },
  {
   "cell_type": "code",
   "execution_count": 4,
   "metadata": {},
   "outputs": [
    {
     "name": "stdout",
     "output_type": "stream",
     "text": [
      "{\n",
      "    \"ISBN\": \"0195153448\",\n",
      "    \"Book-Title\": \"Classical Mythology\",\n",
      "    \"Book-Author\": \"Mark P. O. Morford\",\n",
      "    \"Year-Of-Publication\": \"2002\",\n",
      "    \"Publisher\": \"Oxford University Press\",\n",
      "    \"Image-URL-S\": \"http://images.amazon.com/images/P/0195153448.01.THUMBZZZ.jpg\",\n",
      "    \"Image-URL-M\": \"http://images.amazon.com/images/P/0195153448.01.MZZZZZZZ.jpg\",\n",
      "    \"Image-URL-L\": \"http://images.amazon.com/images/P/0195153448.01.LZZZZZZZ.jpg\"\n",
      "}\n"
     ]
    }
   ],
   "source": [
    "for line in islice(book_features, 1):\n",
    "    print(json.dumps(line, indent=4))"
   ]
  },
  {
   "cell_type": "code",
   "execution_count": 5,
   "metadata": {},
   "outputs": [],
   "source": [
    "from lightfm.data import Dataset\n",
    "\n",
    "dataset = Dataset()\n",
    "dataset.fit((x['User-ID'] for x in get_ratings()),\n",
    "            (x['ISBN'] for x in get_ratings()))"
   ]
  },
  {
   "cell_type": "code",
   "execution_count": 6,
   "metadata": {},
   "outputs": [
    {
     "name": "stdout",
     "output_type": "stream",
     "text": [
      "Num users: 105283, num_items 340553.\n"
     ]
    }
   ],
   "source": [
    "num_users, num_items = dataset.interactions_shape()\n",
    "print('Num users: {}, num_items {}.'.format(num_users, num_items))"
   ]
  },
  {
   "cell_type": "code",
   "execution_count": 7,
   "metadata": {},
   "outputs": [],
   "source": [
    "dataset.fit_partial(items=(x['ISBN'] for x in get_book_features()),\n",
    "                    item_features=(x['Book-Author'] for x in get_book_features()))"
   ]
  },
  {
   "cell_type": "code",
   "execution_count": 8,
   "metadata": {},
   "outputs": [
    {
     "name": "stdout",
     "output_type": "stream",
     "text": [
      "<105283x341762 sparse matrix of type '<class 'numpy.int32'>'\n",
      "\twith 1149780 stored elements in COOrdinate format>\n"
     ]
    }
   ],
   "source": [
    "(interactions, weights) = dataset.build_interactions(((x['User-ID'], x['ISBN'])\n",
    "                                                      for x in get_ratings()))\n",
    "\n",
    "print(repr(interactions))"
   ]
  },
  {
   "cell_type": "code",
   "execution_count": 9,
   "metadata": {},
   "outputs": [
    {
     "name": "stdout",
     "output_type": "stream",
     "text": [
      "<341762x443805 sparse matrix of type '<class 'numpy.float32'>'\n",
      "\twith 613141 stored elements in Compressed Sparse Row format>\n"
     ]
    }
   ],
   "source": [
    "item_features = dataset.build_item_features(((x['ISBN'], [x['Book-Author']])\n",
    "                                              for x in get_book_features()))\n",
    "print(repr(item_features))"
   ]
  },
  {
   "cell_type": "code",
   "execution_count": 10,
   "metadata": {},
   "outputs": [
    {
     "data": {
      "text/plain": [
       "<lightfm.lightfm.LightFM at 0x7fea4011c970>"
      ]
     },
     "execution_count": 10,
     "metadata": {},
     "output_type": "execute_result"
    }
   ],
   "source": [
    "from lightfm import LightFM\n",
    "\n",
    "model = LightFM(loss='bpr')\n",
    "model.fit(interactions, item_features=item_features)"
   ]
  },
  {
   "cell_type": "code",
   "execution_count": 18,
   "metadata": {},
   "outputs": [],
   "source": [
    "import numpy as np\n",
    "def sample_recommendation(model, data, user_ids):\n",
    "    n_users, n_items = data.interactions_shape()\n",
    "    \n",
    "    for user_id in user_ids:\n",
    "        #known_positives = data['item_labels'][data.tocsr()[user_id].indices]\n",
    "        \n",
    "        scores = model.predict(user_id, np.arange(n_items))\n",
    "        sort_scores = np.argsort(-scores)\n",
    "        #items = get_ratings()\n",
    "        print(\"User %s\" % user_id)\n",
    "        print(\"scores:\")\n",
    "        for x in sort_scores[:3]:\n",
    "            print(\"          %s\" % x)\n",
    "        \n",
    "        \n",
    "        \n",
    "        \n",
    "        #print(\"User %s\" % user_id)\n",
    "        #print(\"    Known positivies:\")\n",
    "        \n",
    "        #for x in known_positives[:3]:\n",
    "            #print(\"      %s\" % x)\n",
    "        \n",
    "        print(\"    recommended:\")\n",
    "        \n",
    "        #for x in top_items[:3]:\n",
    "            #print(\"          %s\" % x)"
   ]
  },
  {
   "cell_type": "code",
   "execution_count": 19,
   "metadata": {
    "scrolled": true
   },
   "outputs": [
    {
     "name": "stdout",
     "output_type": "stream",
     "text": [
      "User 0\n",
      "scores:\n",
      "          452\n",
      "          421\n",
      "          1632\n",
      "    recommended:\n"
     ]
    }
   ],
   "source": [
    "user_id_map, user_feature_map, item_id_map, item_feature_map = dataset.mapping()\n",
    "id = user_id_map['276725']\n",
    "sample_recommendation(model, dataset, [id])"
   ]
  },
  {
   "cell_type": "code",
   "execution_count": 27,
   "metadata": {},
   "outputs": [
    {
     "ename": "ValueError",
     "evalue": "The user feature matrix specifies more features than there are estimated feature embeddings: 105283 vs 443805.",
     "output_type": "error",
     "traceback": [
      "\u001b[0;31m\u001b[0m",
      "\u001b[0;31mValueError\u001b[0mTraceback (most recent call last)",
      "\u001b[0;32m<ipython-input-27-85386084bfb5>\u001b[0m in \u001b[0;36m<module>\u001b[0;34m\u001b[0m\n\u001b[1;32m      1\u001b[0m \u001b[0;32mfrom\u001b[0m \u001b[0mlightfm\u001b[0m\u001b[0;34m.\u001b[0m\u001b[0mevaluation\u001b[0m \u001b[0;32mimport\u001b[0m \u001b[0mauc_score\u001b[0m\u001b[0;34m\u001b[0m\u001b[0;34m\u001b[0m\u001b[0m\n\u001b[0;32m----> 2\u001b[0;31m train_auc = auc_score(model,\n\u001b[0m\u001b[1;32m      3\u001b[0m                       \u001b[0minteractions\u001b[0m\u001b[0;34m,\u001b[0m\u001b[0;34m\u001b[0m\u001b[0;34m\u001b[0m\u001b[0m\n\u001b[1;32m      4\u001b[0m                       \u001b[0;32mNone\u001b[0m\u001b[0;34m,\u001b[0m\u001b[0;34m\u001b[0m\u001b[0;34m\u001b[0m\u001b[0m\n\u001b[1;32m      5\u001b[0m                       \u001b[0mitem_features\u001b[0m\u001b[0;34m\u001b[0m\u001b[0;34m\u001b[0m\u001b[0m\n",
      "\u001b[0;32m/home/lightfm/lightfm/evaluation.py\u001b[0m in \u001b[0;36mauc_score\u001b[0;34m(model, test_interactions, train_interactions, user_features, item_features, preserve_rows, num_threads, check_intersections)\u001b[0m\n\u001b[1;32m    222\u001b[0m         \u001b[0;32mraise\u001b[0m \u001b[0mValueError\u001b[0m\u001b[0;34m(\u001b[0m\u001b[0;34m\"Number of threads must be 1 or larger.\"\u001b[0m\u001b[0;34m)\u001b[0m\u001b[0;34m\u001b[0m\u001b[0;34m\u001b[0m\u001b[0m\n\u001b[1;32m    223\u001b[0m \u001b[0;34m\u001b[0m\u001b[0m\n\u001b[0;32m--> 224\u001b[0;31m     ranks = model.predict_rank(\n\u001b[0m\u001b[1;32m    225\u001b[0m         \u001b[0mtest_interactions\u001b[0m\u001b[0;34m,\u001b[0m\u001b[0;34m\u001b[0m\u001b[0;34m\u001b[0m\u001b[0m\n\u001b[1;32m    226\u001b[0m         \u001b[0mtrain_interactions\u001b[0m\u001b[0;34m=\u001b[0m\u001b[0mtrain_interactions\u001b[0m\u001b[0;34m,\u001b[0m\u001b[0;34m\u001b[0m\u001b[0;34m\u001b[0m\u001b[0m\n",
      "\u001b[0;32m/home/lightfm/lightfm/lightfm.py\u001b[0m in \u001b[0;36mpredict_rank\u001b[0;34m(self, test_interactions, train_interactions, item_features, user_features, num_threads, check_intersections)\u001b[0m\n\u001b[1;32m    910\u001b[0m         \u001b[0mn_users\u001b[0m\u001b[0;34m,\u001b[0m \u001b[0mn_items\u001b[0m \u001b[0;34m=\u001b[0m \u001b[0mtest_interactions\u001b[0m\u001b[0;34m.\u001b[0m\u001b[0mshape\u001b[0m\u001b[0;34m\u001b[0m\u001b[0;34m\u001b[0m\u001b[0m\n\u001b[1;32m    911\u001b[0m \u001b[0;34m\u001b[0m\u001b[0m\n\u001b[0;32m--> 912\u001b[0;31m         (user_features, item_features) = self._construct_feature_matrices(\n\u001b[0m\u001b[1;32m    913\u001b[0m             \u001b[0mn_users\u001b[0m\u001b[0;34m,\u001b[0m \u001b[0mn_items\u001b[0m\u001b[0;34m,\u001b[0m \u001b[0muser_features\u001b[0m\u001b[0;34m,\u001b[0m \u001b[0mitem_features\u001b[0m\u001b[0;34m\u001b[0m\u001b[0;34m\u001b[0m\u001b[0m\n\u001b[1;32m    914\u001b[0m         )\n",
      "\u001b[0;32m/home/lightfm/lightfm/lightfm.py\u001b[0m in \u001b[0;36m_construct_feature_matrices\u001b[0;34m(self, n_users, n_items, user_features, item_features)\u001b[0m\n\u001b[1;32m    323\u001b[0m         \u001b[0;32mif\u001b[0m \u001b[0mself\u001b[0m\u001b[0;34m.\u001b[0m\u001b[0muser_embeddings\u001b[0m \u001b[0;32mis\u001b[0m \u001b[0;32mnot\u001b[0m \u001b[0;32mNone\u001b[0m\u001b[0;34m:\u001b[0m\u001b[0;34m\u001b[0m\u001b[0;34m\u001b[0m\u001b[0m\n\u001b[1;32m    324\u001b[0m             \u001b[0;32mif\u001b[0m \u001b[0;32mnot\u001b[0m \u001b[0mself\u001b[0m\u001b[0;34m.\u001b[0m\u001b[0muser_embeddings\u001b[0m\u001b[0;34m.\u001b[0m\u001b[0mshape\u001b[0m\u001b[0;34m[\u001b[0m\u001b[0;36m0\u001b[0m\u001b[0;34m]\u001b[0m \u001b[0;34m>=\u001b[0m \u001b[0muser_features\u001b[0m\u001b[0;34m.\u001b[0m\u001b[0mshape\u001b[0m\u001b[0;34m[\u001b[0m\u001b[0;36m1\u001b[0m\u001b[0;34m]\u001b[0m\u001b[0;34m:\u001b[0m\u001b[0;34m\u001b[0m\u001b[0;34m\u001b[0m\u001b[0m\n\u001b[0;32m--> 325\u001b[0;31m                 raise ValueError(\n\u001b[0m\u001b[1;32m    326\u001b[0m                     \u001b[0;34m\"The user feature matrix specifies more \"\u001b[0m\u001b[0;34m\u001b[0m\u001b[0;34m\u001b[0m\u001b[0m\n\u001b[1;32m    327\u001b[0m                     \u001b[0;34m\"features than there are estimated \"\u001b[0m\u001b[0;34m\u001b[0m\u001b[0;34m\u001b[0m\u001b[0m\n",
      "\u001b[0;31mValueError\u001b[0m: The user feature matrix specifies more features than there are estimated feature embeddings: 105283 vs 443805."
     ]
    }
   ],
   "source": [
    "from lightfm.evaluation import auc_score\n",
    "train_auc = auc_score(model,\n",
    "                      interactions,\n",
    "                      None,\n",
    "                      item_features\n",
    "                     ).mean()\n",
    "print('Hybrid training set AUC: %s' % train_auc)"
   ]
  },
  {
   "cell_type": "code",
   "execution_count": 47,
   "metadata": {},
   "outputs": [
    {
     "name": "stdout",
     "output_type": "stream",
     "text": [
      "{\n",
      "    \"ISBN\": \"0345416848\",\n",
      "    \"Book-Title\": \"Last Sword of Power (Stones of Power)\",\n",
      "    \"Book-Author\": \"David Gemmell\",\n",
      "    \"Year-Of-Publication\": \"1997\",\n",
      "    \"Publisher\": \"Del Rey Books\",\n",
      "    \"Image-URL-S\": \"http://images.amazon.com/images/P/0345416848.01.THUMBZZZ.jpg\",\n",
      "    \"Image-URL-M\": \"http://images.amazon.com/images/P/0345416848.01.MZZZZZZZ.jpg\",\n",
      "    \"Image-URL-L\": \"http://images.amazon.com/images/P/0345416848.01.LZZZZZZZ.jpg\"\n",
      "}\n",
      "{\n",
      "    \"ISBN\": \"0385333404\",\n",
      "    \"Book-Title\": \"Dating Big Bird\",\n",
      "    \"Book-Author\": \"Laura Zigman\",\n",
      "    \"Year-Of-Publication\": \"2000\",\n",
      "    \"Publisher\": \"Dial Books\",\n",
      "    \"Image-URL-S\": \"http://images.amazon.com/images/P/0385333404.01.THUMBZZZ.jpg\",\n",
      "    \"Image-URL-M\": \"http://images.amazon.com/images/P/0385333404.01.MZZZZZZZ.jpg\",\n",
      "    \"Image-URL-L\": \"http://images.amazon.com/images/P/0385333404.01.LZZZZZZZ.jpg\"\n",
      "}\n",
      "{\n",
      "    \"ISBN\": \"044021145X\",\n",
      "    \"Book-Title\": \"The Firm\",\n",
      "    \"Book-Author\": \"John Grisham\",\n",
      "    \"Year-Of-Publication\": \"1992\",\n",
      "    \"Publisher\": \"Bantam Dell Publishing Group\",\n",
      "    \"Image-URL-S\": \"http://images.amazon.com/images/P/044021145X.01.THUMBZZZ.jpg\",\n",
      "    \"Image-URL-M\": \"http://images.amazon.com/images/P/044021145X.01.MZZZZZZZ.jpg\",\n",
      "    \"Image-URL-L\": \"http://images.amazon.com/images/P/044021145X.01.LZZZZZZZ.jpg\"\n",
      "}\n"
     ]
    }
   ],
   "source": [
    "#for line in islice(book_features, 3):\n",
    "    #print(json.dumps(line, indent=4))"
   ]
  },
  {
   "cell_type": "code",
   "execution_count": null,
   "metadata": {},
   "outputs": [],
   "source": []
  }
 ],
 "metadata": {
  "kernelspec": {
   "display_name": "Python 3",
   "language": "python",
   "name": "python3"
  },
  "language_info": {
   "codemirror_mode": {
    "name": "ipython",
    "version": 3
   },
   "file_extension": ".py",
   "mimetype": "text/x-python",
   "name": "python",
   "nbconvert_exporter": "python",
   "pygments_lexer": "ipython3",
   "version": "3.8.5"
  }
 },
 "nbformat": 4,
 "nbformat_minor": 4
}
